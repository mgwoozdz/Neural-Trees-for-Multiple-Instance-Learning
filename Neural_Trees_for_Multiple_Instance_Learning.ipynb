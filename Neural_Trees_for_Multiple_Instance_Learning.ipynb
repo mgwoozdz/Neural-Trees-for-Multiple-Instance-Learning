{
  "nbformat": 4,
  "nbformat_minor": 0,
  "metadata": {
    "colab": {
      "name": "Neural Trees for Multiple Instance Learning.ipynb",
      "provenance": [],
      "authorship_tag": "ABX9TyPWgGUZuCU4V2amHOGmYmWK",
      "include_colab_link": true
    },
    "kernelspec": {
      "name": "python3",
      "display_name": "Python 3"
    },
    "language_info": {
      "name": "python"
    }
  },
  "cells": [
    {
      "cell_type": "markdown",
      "metadata": {
        "id": "view-in-github",
        "colab_type": "text"
      },
      "source": [
        "<a href=\"https://colab.research.google.com/github/mgwoozdz/Neural-Trees-for-Multiple-Instance-Learning/blob/main/Neural_Trees_for_Multiple_Instance_Learning.ipynb\" target=\"_parent\"><img src=\"https://colab.research.google.com/assets/colab-badge.svg\" alt=\"Open In Colab\"/></a>"
      ]
    }
  ]
}