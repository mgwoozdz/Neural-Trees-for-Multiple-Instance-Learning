{
 "cells": [
  {
   "cell_type": "code",
   "execution_count": null,
   "id": "21781eee-3184-4825-aace-ed2cf73bb773",
   "metadata": {
    "collapsed": false,
    "gradient": {
     "editing": false,
     "id": "21781eee-3184-4825-aace-ed2cf73bb773",
     "kernelId": "4e655f03-4839-4537-8410-491f0964248c",
     "source_hidden": false
    }
   },
   "outputs": [],
   "source": [
    "!pip install scikit-image\n",
    "!pip install torchmetrics\n",
    "!pip install pandas"
   ]
  },
  {
   "cell_type": "code",
   "execution_count": null,
   "id": "147dd8e1-18f1-4902-ae66-681dbc2e5719",
   "metadata": {
    "collapsed": false,
    "gradient": {
     "editing": false,
     "id": "147dd8e1-18f1-4902-ae66-681dbc2e5719",
     "kernelId": "4e655f03-4839-4537-8410-491f0964248c",
     "source_hidden": false
    }
   },
   "outputs": [],
   "source": [
    "!python3 produce_neural_miforest.py"
   ]
  },
  {
   "cell_type": "code",
   "execution_count": null,
   "id": "21a120f7-f93c-4a32-9aaf-7423475fa7ab",
   "metadata": {
    "collapsed": false,
    "gradient": {
     "editing": false,
     "id": "21a120f7-f93c-4a32-9aaf-7423475fa7ab",
     "kernelId": "4e655f03-4839-4537-8410-491f0964248c",
     "source_hidden": false
    }
   },
   "outputs": [
    {
     "name": "stdout",
     "output_type": "stream",
     "text": [
      "81\n",
      "0.691358024691358\n"
     ]
    }
   ],
   "source": [
    "import numpy as np\n",
    "a = [0.49243423,0.50419354,0.47975704,0.5283038,0.5294404,0.4877696,0.5394024,0.53670114,0.45449123,0.56384856,0.5170603,0.51580185,0.538139,0.5093201,0.5627382,0.5294276,0.4898386,0.52165395,0.4921306,0.5018913,0.5564216,0.5207184,0.5498614,0.5138766,0.47764453,0.49673024,0.51937515,0.51465225,0.5013179,0.5363161,0.4486806,0.46737275,0.5265655,0.49276677,0.48709756,0.47890463,0.5545955,0.4766651,0.52018267,0.47007123,0.52465415,0.4972187,0.54915094,0.5287698,0.5292332,0.5612504,0.536268,0.55431366,0.45889422,0.49031162,0.5227195,0.48684007,0.5067383,0.47586355,0.52705425,0.49396417,0.5553108,0.54784614,0.4897642,0.5396499,0.5264723,0.52822316,0.5708434,0.47737265,0.53066725,0.5105919,0.5032746,0.5350953,0.5235973,0.5113754,0.56167674,0.52780384,0.5098576,0.5076565,0.50488424,0.50788736,0.5076137,0.53176904,0.53983444,0.48153296,0.4664403]\n",
    "\n",
    "print(len(a))\n",
    "print(np.sum([1 for i in a if i > 0.5])/len(a))"
   ]
  }
 ],
 "metadata": {},
 "nbformat": 4,
 "nbformat_minor": 5
}
